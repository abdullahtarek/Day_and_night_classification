{
 "cells": [
  {
   "cell_type": "code",
   "execution_count": 1,
   "metadata": {},
   "outputs": [],
   "source": [
    "import cv2\n",
    "import numpy as np\n",
    "import os\n",
    "from glob import glob"
   ]
  },
  {
   "cell_type": "code",
   "execution_count": 13,
   "metadata": {},
   "outputs": [
    {
     "name": "stdout",
     "output_type": "stream",
     "text": [
      "day_night_images\\training\\day\\20151101_142050.jpg\n",
      "[1]\n"
     ]
    }
   ],
   "source": [
    "training_folder=\"day_night_images\\\\training\\\\\"\n",
    "testing_folder=\"day_night_images/test\\\\\"\n",
    "def read_data(folder_path):\n",
    "    images=[]\n",
    "    label=[]\n",
    "    for img in glob(folder_path+\"*/*.jpg\"):\n",
    "        print(img)\n",
    "        images.append(cv2.imread(img))\n",
    "        label.append(int(img.split('\\\\')[-2]== \"day\"))\n",
    "    return images,label\n",
    "read_data(training_folder)  "
   ]
  },
  {
   "cell_type": "code",
   "execution_count": 12,
   "metadata": {},
   "outputs": [
    {
     "data": {
      "text/plain": [
       "1"
      ]
     },
     "execution_count": 12,
     "metadata": {},
     "output_type": "execute_result"
    }
   ],
   "source": [
    "int(True)"
   ]
  },
  {
   "cell_type": "code",
   "execution_count": null,
   "metadata": {},
   "outputs": [],
   "source": []
  }
 ],
 "metadata": {
  "kernelspec": {
   "display_name": "Python 3",
   "language": "python",
   "name": "python3"
  },
  "language_info": {
   "codemirror_mode": {
    "name": "ipython",
    "version": 3
   },
   "file_extension": ".py",
   "mimetype": "text/x-python",
   "name": "python",
   "nbconvert_exporter": "python",
   "pygments_lexer": "ipython3",
   "version": "3.5.5"
  }
 },
 "nbformat": 4,
 "nbformat_minor": 2
}
